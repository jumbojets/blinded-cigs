{
 "cells": [
  {
   "cell_type": "code",
   "execution_count": 1,
   "id": "ae5bb976-82d0-472b-8e3b-e9f3ea1b627c",
   "metadata": {},
   "outputs": [],
   "source": [
    "from blindr_config import BlindrConfig\n",
    "from blindr_client import MyAPIClient\n"
   ]
  },
  {
   "cell_type": "code",
   "execution_count": 2,
   "id": "57114e9e-595f-4e8f-b7bf-5896fa213ce6",
   "metadata": {},
   "outputs": [],
   "source": [
    "constraint = \"\"\"{\n",
    "\t\"auth\": [\n",
    "\t\t[\"password\", \"hello123\"],\n",
    "\t\t[\"What is your mothers maiden name\", \"Duke\"],\n",
    "    [\"What is your favorite ice cream flavor\", \"chocolate\"]\n",
    "    ],\n",
    "    \"withdrawal_limit\" : 10\n",
    "}\"\"\"\n",
    "\n",
    "message = \"\"\"{\n",
    "\t\"sender\": \"1FWu4Z9NoBWnguurBCdXpmM2xuiog6kbdy\",\n",
    "\t\"receiver\": \"3C3nZhpVjjDGo7vGzBCTJkKfYzCGWGLWsq\",\n",
    "\t\"amount\": 100\n",
    "}\"\"\""
   ]
  },
  {
   "cell_type": "code",
   "execution_count": null,
   "id": "0493ae4c-7a01-4bf1-8898-e77fd927f688",
   "metadata": {},
   "outputs": [],
   "source": []
  }
 ],
 "metadata": {
  "kernelspec": {
   "display_name": "Python 3 (ipykernel)",
   "language": "python",
   "name": "python3"
  },
  "language_info": {
   "codemirror_mode": {
    "name": "ipython",
    "version": 3
   },
   "file_extension": ".py",
   "mimetype": "text/x-python",
   "name": "python",
   "nbconvert_exporter": "python",
   "pygments_lexer": "ipython3",
   "version": "3.12.2"
  }
 },
 "nbformat": 4,
 "nbformat_minor": 5
}
