{
 "cells": [
  {
   "cell_type": "code",
   "execution_count": 1,
   "id": "ae5bb976-82d0-472b-8e3b-e9f3ea1b627c",
   "metadata": {},
   "outputs": [
    {
     "ename": "ImportError",
     "evalue": "dlopen(/Users/james/Desktop/blindr/sdk/libblindr.so, 0x0002): symbol not found in flat namespace '_PyErr_GetRaisedException'",
     "output_type": "error",
     "traceback": [
      "\u001b[0;31m---------------------------------------------------------------------------\u001b[0m",
      "\u001b[0;31mImportError\u001b[0m                               Traceback (most recent call last)",
      "Cell \u001b[0;32mIn[1], line 2\u001b[0m\n\u001b[1;32m      1\u001b[0m \u001b[38;5;28;01mfrom\u001b[39;00m \u001b[38;5;21;01mblindr_config\u001b[39;00m \u001b[38;5;28;01mimport\u001b[39;00m BlindrConfig\n\u001b[0;32m----> 2\u001b[0m \u001b[38;5;28;01mfrom\u001b[39;00m \u001b[38;5;21;01mblindr_client\u001b[39;00m \u001b[38;5;28;01mimport\u001b[39;00m MyAPIClient\n",
      "File \u001b[0;32m~/Desktop/blindr/sdk/blindr_client.py:3\u001b[0m\n\u001b[1;32m      1\u001b[0m \u001b[38;5;28;01mimport\u001b[39;00m \u001b[38;5;21;01mrequests\u001b[39;00m\n\u001b[1;32m      2\u001b[0m \u001b[38;5;28;01mfrom\u001b[39;00m \u001b[38;5;21;01mblindr_config\u001b[39;00m \u001b[38;5;28;01mimport\u001b[39;00m BlindrConfig\n\u001b[0;32m----> 3\u001b[0m \u001b[38;5;28;01mfrom\u001b[39;00m \u001b[38;5;21;01mlibblindr\u001b[39;00m \u001b[38;5;28;01mimport\u001b[39;00m hash_spend_constraint, prove_message_fits_constraint, client_new_blind_request, client_verify_signature, client_unblind_signature\n\u001b[1;32m      6\u001b[0m \u001b[38;5;66;03m# def hash_spend_constraint(constraint):\u001b[39;00m\n\u001b[1;32m      7\u001b[0m \u001b[38;5;66;03m#     return constraint\u001b[39;00m\n\u001b[1;32m      8\u001b[0m \n\u001b[0;32m   (...)\u001b[0m\n\u001b[1;32m     18\u001b[0m \u001b[38;5;66;03m# def client_verify_signature(public_key, signature):\u001b[39;00m\n\u001b[1;32m     19\u001b[0m \u001b[38;5;66;03m#     return True\u001b[39;00m\n\u001b[1;32m     22\u001b[0m \u001b[38;5;28;01mclass\u001b[39;00m \u001b[38;5;21;01mMyAPIClient\u001b[39;00m:\n",
      "\u001b[0;31mImportError\u001b[0m: dlopen(/Users/james/Desktop/blindr/sdk/libblindr.so, 0x0002): symbol not found in flat namespace '_PyErr_GetRaisedException'"
     ]
    }
   ],
   "source": [
    "from blindr_config import BlindrConfig\n",
    "from blindr_client import MyAPIClient\n"
   ]
  }
 ],
 "metadata": {
  "kernelspec": {
   "display_name": "Python 3 (ipykernel)",
   "language": "python",
   "name": "python3"
  },
  "language_info": {
   "codemirror_mode": {
    "name": "ipython",
    "version": 3
   },
   "file_extension": ".py",
   "mimetype": "text/x-python",
   "name": "python",
   "nbconvert_exporter": "python",
   "pygments_lexer": "ipython3",
   "version": "3.11.8"
  }
 },
 "nbformat": 4,
 "nbformat_minor": 5
}
